{
 "cells": [
  {
   "cell_type": "code",
   "execution_count": 4,
   "id": "0a051e4b-35eb-42bf-a85a-39fff2e3dae5",
   "metadata": {},
   "outputs": [],
   "source": [
    "from joblib import dump, load\n",
    "import numpy as np\n",
    "model = load('Dragon.joblib')"
   ]
  },
  {
   "cell_type": "code",
   "execution_count": 11,
   "id": "ec46927c-0257-40ae-9e85-d3e898708007",
   "metadata": {},
   "outputs": [
    {
     "data": {
      "text/plain": [
       "array([25.763])"
      ]
     },
     "execution_count": 11,
     "metadata": {},
     "output_type": "execute_result"
    }
   ],
   "source": [
    "features = np.array([[ 0.26201646, -0.49058452,  0.98237018, -0.27325202, -0.22068342,\n",
    "        0.66564166,  0.21955292, -0.20199385,  1.63331998,  1.50307703,\n",
    "        0.81533477,  0.4149992 , -0.70290259]])\n",
    "model.predict(features)"
   ]
  },
  {
   "cell_type": "code",
   "execution_count": null,
   "id": "3c9d79a0-d2ec-49d0-9804-564847abf66c",
   "metadata": {},
   "outputs": [],
   "source": []
  }
 ],
 "metadata": {
  "kernelspec": {
   "display_name": "Python 3 (ipykernel)",
   "language": "python",
   "name": "python3"
  },
  "language_info": {
   "codemirror_mode": {
    "name": "ipython",
    "version": 3
   },
   "file_extension": ".py",
   "mimetype": "text/x-python",
   "name": "python",
   "nbconvert_exporter": "python",
   "pygments_lexer": "ipython3",
   "version": "3.11.2"
  }
 },
 "nbformat": 4,
 "nbformat_minor": 5
}
